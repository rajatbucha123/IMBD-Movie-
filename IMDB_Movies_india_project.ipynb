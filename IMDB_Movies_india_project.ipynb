{
 "cells": [
  {
   "cell_type": "markdown",
   "id": "922c5bbf",
   "metadata": {},
   "source": [
    "#                                                   Task"
   ]
  },
  {
   "cell_type": "markdown",
   "id": "a16dd311",
   "metadata": {},
   "source": [
    "Every dataset has a story and this set is pulled from IMDb.com of all the Indian movies on the platform. \n",
    "Clean this data by removing missing values or adding average values this process will help to manipulate the data to \n",
    "help with your EDA."
   ]
  },
  {
   "cell_type": "markdown",
   "id": "32b01262",
   "metadata": {},
   "source": [
    "# Analyze data and provide some trends.\n",
    "1) Year with best rating\n",
    "\n",
    "2) Does length of movie have any impact with the rating?\n",
    "\n",
    "3) Top 10 movies according to rating per year and overall.\n",
    "\n",
    "4) Number of popular movies released each year.\n",
    "\n",
    "5) Counting the number of votes which movies preformed better in rating per year and overall.\n",
    "\n",
    "6) Any other trends or future prediction you may have\n",
    "\n",
    "7) Which director directed the most movies\n",
    "\n",
    "8) Which actor starred in the movie\n",
    "\n",
    "9) Any other trends you can find"
   ]
  },
  {
   "cell_type": "markdown",
   "id": "7e2b1d07",
   "metadata": {},
   "source": [
    "# IMPORT THE LIBRARY AND READ THE DATASET"
   ]
  },
  {
   "cell_type": "code",
   "execution_count": 1,
   "id": "8b895b96",
   "metadata": {},
   "outputs": [
    {
     "name": "stderr",
     "output_type": "stream",
     "text": [
      "C:\\Users\\rajat\\AppData\\Roaming\\Python\\Python39\\site-packages\\pandas\\core\\computation\\expressions.py:21: UserWarning: Pandas requires version '2.8.4' or newer of 'numexpr' (version '2.8.1' currently installed).\n",
      "  from pandas.core.computation.check import NUMEXPR_INSTALLED\n",
      "C:\\Users\\rajat\\AppData\\Local\\Temp\\ipykernel_23200\\265554930.py:2: DeprecationWarning: \n",
      "Pyarrow will become a required dependency of pandas in the next major release of pandas (pandas 3.0),\n",
      "(to allow more performant data types, such as the Arrow string type, and better interoperability with other libraries)\n",
      "but was too old on your system - pyarrow 10.0.1 is the current minimum supported version as of this release.\n",
      "If this would cause problems for you,\n",
      "please provide us feedback at https://github.com/pandas-dev/pandas/issues/54466\n",
      "        \n",
      "  import pandas as pd\n",
      "C:\\Program Files\\ArcGIS\\Pro\\bin\\Python\\envs\\arcgispro-py3\\lib\\site-packages\\scipy\\__init__.py:138: UserWarning: A NumPy version >=1.16.5 and <1.23.0 is required for this version of SciPy (detected version 1.26.4)\n",
      "  warnings.warn(f\"A NumPy version >={np_minversion} and <{np_maxversion} is required for this version of \"\n"
     ]
    }
   ],
   "source": [
    "import numpy as np\n",
    "import pandas as pd\n",
    "import matplotlib.pyplot as plt\n",
    "import seaborn as sns"
   ]
  },
  {
   "cell_type": "code",
   "execution_count": 2,
   "id": "41379420",
   "metadata": {},
   "outputs": [
    {
     "data": {
      "text/html": [
       "<div>\n",
       "<style scoped>\n",
       "    .dataframe tbody tr th:only-of-type {\n",
       "        vertical-align: middle;\n",
       "    }\n",
       "\n",
       "    .dataframe tbody tr th {\n",
       "        vertical-align: top;\n",
       "    }\n",
       "\n",
       "    .dataframe thead th {\n",
       "        text-align: right;\n",
       "    }\n",
       "</style>\n",
       "<table border=\"1\" class=\"dataframe\">\n",
       "  <thead>\n",
       "    <tr style=\"text-align: right;\">\n",
       "      <th></th>\n",
       "      <th>Name</th>\n",
       "      <th>Year</th>\n",
       "      <th>Duration</th>\n",
       "      <th>Genre</th>\n",
       "      <th>Rating</th>\n",
       "      <th>Votes</th>\n",
       "      <th>Director</th>\n",
       "      <th>Actor 1</th>\n",
       "      <th>Actor 2</th>\n",
       "      <th>Actor 3</th>\n",
       "    </tr>\n",
       "  </thead>\n",
       "  <tbody>\n",
       "    <tr>\n",
       "      <th>0</th>\n",
       "      <td></td>\n",
       "      <td>NaN</td>\n",
       "      <td>NaN</td>\n",
       "      <td>Drama</td>\n",
       "      <td>NaN</td>\n",
       "      <td>NaN</td>\n",
       "      <td>J.S. Randhawa</td>\n",
       "      <td>Manmauji</td>\n",
       "      <td>Birbal</td>\n",
       "      <td>Rajendra Bhatia</td>\n",
       "    </tr>\n",
       "    <tr>\n",
       "      <th>1</th>\n",
       "      <td>#Gadhvi (He thought he was Gandhi)</td>\n",
       "      <td>(2019)</td>\n",
       "      <td>109 min</td>\n",
       "      <td>Drama</td>\n",
       "      <td>7.0</td>\n",
       "      <td>8</td>\n",
       "      <td>Gaurav Bakshi</td>\n",
       "      <td>Rasika Dugal</td>\n",
       "      <td>Vivek Ghamande</td>\n",
       "      <td>Arvind Jangid</td>\n",
       "    </tr>\n",
       "    <tr>\n",
       "      <th>2</th>\n",
       "      <td>#Homecoming</td>\n",
       "      <td>(2021)</td>\n",
       "      <td>90 min</td>\n",
       "      <td>Drama, Musical</td>\n",
       "      <td>NaN</td>\n",
       "      <td>NaN</td>\n",
       "      <td>Soumyajit Majumdar</td>\n",
       "      <td>Sayani Gupta</td>\n",
       "      <td>Plabita Borthakur</td>\n",
       "      <td>Roy Angana</td>\n",
       "    </tr>\n",
       "    <tr>\n",
       "      <th>3</th>\n",
       "      <td>#Yaaram</td>\n",
       "      <td>(2019)</td>\n",
       "      <td>110 min</td>\n",
       "      <td>Comedy, Romance</td>\n",
       "      <td>4.4</td>\n",
       "      <td>35</td>\n",
       "      <td>Ovais Khan</td>\n",
       "      <td>Prateik</td>\n",
       "      <td>Ishita Raj</td>\n",
       "      <td>Siddhant Kapoor</td>\n",
       "    </tr>\n",
       "    <tr>\n",
       "      <th>4</th>\n",
       "      <td>...And Once Again</td>\n",
       "      <td>(2010)</td>\n",
       "      <td>105 min</td>\n",
       "      <td>Drama</td>\n",
       "      <td>NaN</td>\n",
       "      <td>NaN</td>\n",
       "      <td>Amol Palekar</td>\n",
       "      <td>Rajat Kapoor</td>\n",
       "      <td>Rituparna Sengupta</td>\n",
       "      <td>Antara Mali</td>\n",
       "    </tr>\n",
       "  </tbody>\n",
       "</table>\n",
       "</div>"
      ],
      "text/plain": [
       "                                 Name    Year Duration            Genre  \\\n",
       "0                                         NaN      NaN            Drama   \n",
       "1  #Gadhvi (He thought he was Gandhi)  (2019)  109 min            Drama   \n",
       "2                         #Homecoming  (2021)   90 min   Drama, Musical   \n",
       "3                             #Yaaram  (2019)  110 min  Comedy, Romance   \n",
       "4                   ...And Once Again  (2010)  105 min            Drama   \n",
       "\n",
       "   Rating Votes            Director       Actor 1             Actor 2  \\\n",
       "0     NaN   NaN       J.S. Randhawa      Manmauji              Birbal   \n",
       "1     7.0     8       Gaurav Bakshi  Rasika Dugal      Vivek Ghamande   \n",
       "2     NaN   NaN  Soumyajit Majumdar  Sayani Gupta   Plabita Borthakur   \n",
       "3     4.4    35          Ovais Khan       Prateik          Ishita Raj   \n",
       "4     NaN   NaN        Amol Palekar  Rajat Kapoor  Rituparna Sengupta   \n",
       "\n",
       "           Actor 3  \n",
       "0  Rajendra Bhatia  \n",
       "1    Arvind Jangid  \n",
       "2       Roy Angana  \n",
       "3  Siddhant Kapoor  \n",
       "4      Antara Mali  "
      ]
     },
     "execution_count": 2,
     "metadata": {},
     "output_type": "execute_result"
    }
   ],
   "source": [
    "#Read the dataset\n",
    "movie_data = pd.read_csv('IMDb_Movies_India.csv', encoding='latin1')\n",
    "movie_data.head()"
   ]
  },
  {
   "cell_type": "code",
   "execution_count": 3,
   "id": "d4da46e8",
   "metadata": {},
   "outputs": [
    {
     "data": {
      "text/plain": [
       "(15509, 10)"
      ]
     },
     "execution_count": 3,
     "metadata": {},
     "output_type": "execute_result"
    }
   ],
   "source": [
    "#Check the shape of the dataset\n",
    "movie_data.shape"
   ]
  },
  {
   "cell_type": "code",
   "execution_count": 4,
   "id": "946ff25d",
   "metadata": {},
   "outputs": [
    {
     "name": "stdout",
     "output_type": "stream",
     "text": [
      "<class 'pandas.core.frame.DataFrame'>\n",
      "RangeIndex: 15509 entries, 0 to 15508\n",
      "Data columns (total 10 columns):\n",
      " #   Column    Non-Null Count  Dtype  \n",
      "---  ------    --------------  -----  \n",
      " 0   Name      15509 non-null  object \n",
      " 1   Year      14981 non-null  object \n",
      " 2   Duration  7240 non-null   object \n",
      " 3   Genre     13632 non-null  object \n",
      " 4   Rating    7919 non-null   float64\n",
      " 5   Votes     7920 non-null   object \n",
      " 6   Director  14984 non-null  object \n",
      " 7   Actor 1   13892 non-null  object \n",
      " 8   Actor 2   13125 non-null  object \n",
      " 9   Actor 3   12365 non-null  object \n",
      "dtypes: float64(1), object(9)\n",
      "memory usage: 1.2+ MB\n"
     ]
    }
   ],
   "source": [
    "#Information about the null or dtypes\n",
    "movie_data.info()"
   ]
  },
  {
   "cell_type": "code",
   "execution_count": 5,
   "id": "3eba67f6",
   "metadata": {},
   "outputs": [
    {
     "data": {
      "text/plain": [
       "Name           0\n",
       "Year         528\n",
       "Duration    8269\n",
       "Genre       1877\n",
       "Rating      7590\n",
       "Votes       7589\n",
       "Director     525\n",
       "Actor 1     1617\n",
       "Actor 2     2384\n",
       "Actor 3     3144\n",
       "dtype: int64"
      ]
     },
     "execution_count": 5,
     "metadata": {},
     "output_type": "execute_result"
    }
   ],
   "source": [
    "#check the null values\n",
    "movie_data.isnull().sum()"
   ]
  },
  {
   "cell_type": "code",
   "execution_count": 6,
   "id": "c6b0e8a3",
   "metadata": {},
   "outputs": [
    {
     "data": {
      "text/plain": [
       "Name         0.000000\n",
       "Year         3.404475\n",
       "Duration    53.317429\n",
       "Genre       12.102650\n",
       "Rating      48.939326\n",
       "Votes       48.932878\n",
       "Director     3.385131\n",
       "Actor 1     10.426204\n",
       "Actor 2     15.371720\n",
       "Actor 3     20.272100\n",
       "dtype: float64"
      ]
     },
     "execution_count": 6,
     "metadata": {},
     "output_type": "execute_result"
    }
   ],
   "source": [
    "#check the null values by percentages\n",
    "movie_data.isnull().mean()*100"
   ]
  },
  {
   "cell_type": "code",
   "execution_count": 7,
   "id": "f01c7bd0",
   "metadata": {},
   "outputs": [
    {
     "data": {
      "text/plain": [
       "array([nan, '(2019)', '(2021)', '(2010)', '(1997)', '(2005)', '(2008)',\n",
       "       '(2012)', '(2014)', '(2004)', '(2016)', '(1991)', '(1990)',\n",
       "       '(2018)', '(1987)', '(1948)', '(1958)', '(2017)', '(2020)',\n",
       "       '(2009)', '(2002)', '(1993)', '(1946)', '(1994)', '(2007)',\n",
       "       '(2013)', '(2003)', '(1998)', '(1979)', '(1951)', '(1956)',\n",
       "       '(1974)', '(2015)', '(2006)', '(1981)', '(1985)', '(2011)',\n",
       "       '(2001)', '(1967)', '(1988)', '(1995)', '(1959)', '(1996)',\n",
       "       '(1970)', '(1976)', '(2000)', '(1999)', '(1973)', '(1968)',\n",
       "       '(1943)', '(1953)', '(1986)', '(1983)', '(1989)', '(1982)',\n",
       "       '(1977)', '(1957)', '(1950)', '(1992)', '(1969)', '(1975)',\n",
       "       '(1947)', '(1972)', '(1971)', '(1935)', '(1978)', '(1960)',\n",
       "       '(1944)', '(1963)', '(1940)', '(1984)', '(1934)', '(1955)',\n",
       "       '(1936)', '(1980)', '(1966)', '(1949)', '(1962)', '(1964)',\n",
       "       '(1952)', '(1933)', '(1942)', '(1939)', '(1954)', '(1945)',\n",
       "       '(1961)', '(1965)', '(1938)', '(1941)', '(1931)', '(1937)',\n",
       "       '(2022)', '(1932)', '(1923)', '(1915)', '(1928)', '(1922)',\n",
       "       '(1917)', '(1913)', '(1930)', '(1926)', '(1914)', '(1924)'],\n",
       "      dtype=object)"
      ]
     },
     "execution_count": 7,
     "metadata": {},
     "output_type": "execute_result"
    }
   ],
   "source": [
    "movie_data['Year'].unique()"
   ]
  },
  {
   "cell_type": "code",
   "execution_count": 8,
   "id": "a0b59a7a",
   "metadata": {},
   "outputs": [
    {
     "name": "stdout",
     "output_type": "stream",
     "text": [
      "INFO: \n",
      "\n",
      "<class 'pandas.core.frame.DataFrame'>\n",
      "RangeIndex: 15509 entries, 0 to 15508\n",
      "Data columns (total 10 columns):\n",
      " #   Column    Non-Null Count  Dtype  \n",
      "---  ------    --------------  -----  \n",
      " 0   Name      15509 non-null  object \n",
      " 1   Year      14981 non-null  object \n",
      " 2   Duration  7240 non-null   object \n",
      " 3   Genre     13632 non-null  object \n",
      " 4   Rating    7919 non-null   float64\n",
      " 5   Votes     7920 non-null   object \n",
      " 6   Director  14984 non-null  object \n",
      " 7   Actor 1   13892 non-null  object \n",
      " 8   Actor 2   13125 non-null  object \n",
      " 9   Actor 3   12365 non-null  object \n",
      "dtypes: float64(1), object(9)\n",
      "memory usage: 1.2+ MB\n",
      "None \n",
      "\n",
      "\n",
      "\n",
      "\n",
      "\n",
      "nunique: \n",
      "\n",
      "485 \n",
      "\n",
      "\n",
      "\n",
      "unique: \n",
      "\n",
      "[nan '(2019)' '(2021)' '(2010)' '(1997)' '(2005)' '(2008)' '(2012)'\n",
      " '(2014)' '(2004)' '(2016)' '(1991)' '(1990)' '(2018)' '(1987)' '(1948)'\n",
      " '(1958)' '(2017)' '(2020)' '(2009)' '(2002)' '(1993)' '(1946)' '(1994)'\n",
      " '(2007)' '(2013)' '(2003)' '(1998)' '(1979)' '(1951)' '(1956)' '(1974)'\n",
      " '(2015)' '(2006)' '(1981)' '(1985)' '(2011)' '(2001)' '(1967)' '(1988)'\n",
      " '(1995)' '(1959)' '(1996)' '(1970)' '(1976)' '(2000)' '(1999)' '(1973)'\n",
      " '(1968)' '(1943)' '(1953)' '(1986)' '(1983)' '(1989)' '(1982)' '(1977)'\n",
      " '(1957)' '(1950)' '(1992)' '(1969)' '(1975)' '(1947)' '(1972)' '(1971)'\n",
      " '(1935)' '(1978)' '(1960)' '(1944)' '(1963)' '(1940)' '(1984)' '(1934)'\n",
      " '(1955)' '(1936)' '(1980)' '(1966)' '(1949)' '(1962)' '(1964)' '(1952)'\n",
      " '(1933)' '(1942)' '(1939)' '(1954)' '(1945)' '(1961)' '(1965)' '(1938)'\n",
      " '(1941)' '(1931)' '(1937)' '(2022)' '(1932)' '(1923)' '(1915)' '(1928)'\n",
      " '(1922)' '(1917)' '(1913)' '(1930)' '(1926)' '(1914)' '(1924)'] \n",
      "\n",
      "\n",
      "\n",
      "Rating unique: \n",
      "\n",
      "[ nan  7.   4.4  4.7  7.4  5.6  4.   6.2  5.9  6.5  5.7  6.3  7.2  6.6\n",
      "  7.3  7.1  6.9  3.5  5.   4.5  6.4  4.1  4.8  8.1  5.5  6.8  6.1  7.7\n",
      "  5.1  7.6  3.1  3.3  7.8  8.4  5.2  4.3  5.8  4.6  7.5  6.7  3.6  3.9\n",
      "  5.4  4.2  5.3  3.4  3.   8.   6.   3.8  7.9  2.7  4.9  2.4  3.7  3.2\n",
      "  2.5  2.8  2.6  2.9  8.2  8.7  8.3  9.3  8.8  2.1  2.3  8.5  8.6  9.\n",
      "  9.6  1.7  9.1  2.   1.4  8.9  1.9  9.4  9.7  1.8  9.2  1.6 10.   2.2\n",
      "  1.1] \n",
      "\n",
      "\n",
      "\n",
      "Duration unique: \n",
      "\n",
      "[nan '109 min' '90 min' '110 min' '105 min' '147 min' '142 min' '59 min'\n",
      " '82 min' '116 min' '96 min' '120 min' '161 min' '166 min' '102 min'\n",
      " '87 min' '132 min' '66 min' '146 min' '112 min' '168 min' '158 min'\n",
      " '126 min' '94 min' '138 min' '124 min' '144 min' '157 min' '136 min'\n",
      " '107 min' '113 min' '80 min' '122 min' '149 min' '148 min' '130 min'\n",
      " '121 min' '188 min' '115 min' '103 min' '114 min' '170 min' '100 min'\n",
      " '99 min' '140 min' '128 min' '93 min' '125 min' '145 min' '75 min'\n",
      " '111 min' '134 min' '85 min' '104 min' '92 min' '137 min' '127 min'\n",
      " '150 min' '119 min' '135 min' '86 min' '76 min' '70 min' '72 min'\n",
      " '151 min' '95 min' '52 min' '89 min' '143 min' '177 min' '117 min'\n",
      " '123 min' '154 min' '88 min' '175 min' '153 min' '78 min' '139 min'\n",
      " '133 min' '101 min' '180 min' '60 min' '46 min' '164 min' '162 min'\n",
      " '171 min' '160 min' '152 min' '62 min' '163 min' '165 min' '141 min'\n",
      " '210 min' '129 min' '156 min' '240 min' '172 min' '155 min' '118 min'\n",
      " '167 min' '106 min' '193 min' '57 min' '108 min' '45 min' '195 min'\n",
      " '174 min' '81 min' '178 min' '58 min' '184 min' '97 min' '98 min'\n",
      " '131 min' '176 min' '169 min' '77 min' '91 min' '84 min' '173 min'\n",
      " '74 min' '67 min' '181 min' '300 min' '79 min' '65 min' '48 min'\n",
      " '183 min' '159 min' '83 min' '68 min' '49 min' '201 min' '64 min'\n",
      " '186 min' '50 min' '69 min' '207 min' '55 min' '61 min' '185 min'\n",
      " '187 min' '216 min' '63 min' '54 min' '198 min' '51 min' '71 min'\n",
      " '73 min' '218 min' '191 min' '321 min' '199 min' '53 min' '56 min'\n",
      " '179 min' '47 min' '206 min' '190 min' '211 min' '247 min' '213 min'\n",
      " '223 min' '2 min' '189 min' '224 min' '202 min' '255 min' '197 min'\n",
      " '182 min' '214 min' '208 min' '21 min' '200 min' '192 min' '37 min'\n",
      " '261 min' '238 min' '204 min' '235 min' '298 min' '217 min' '250 min'] \n",
      "\n",
      "\n",
      "\n",
      "Value counts Director: \n",
      "\n",
      "Director\n",
      "Jayant Desai        58\n",
      "Kanti Shah          57\n",
      "Babubhai Mistry     50\n",
      "Mahesh Bhatt        48\n",
      "Master Bhagwan      47\n",
      "                    ..\n",
      "Naeem Siddiqui       1\n",
      "Shadaab Khan         1\n",
      "Mystelle Brabbee     1\n",
      "Kunal Shivdasani     1\n",
      "Kiran Thej           1\n",
      "Name: count, Length: 5938, dtype: int64 \n",
      "\n",
      "\n",
      "\n"
     ]
    }
   ],
   "source": [
    "print('INFO:', \"\\n\")\n",
    "print(movie_data.info(), \"\\n\\n\\n\\n\\n\")\n",
    "\n",
    "print('nunique:', \"\\n\")\n",
    "print(movie_data['Genre'].nunique(),'\\n\\n\\n')\n",
    "\n",
    "print('unique:',\"\\n\")\n",
    "print(movie_data['Year'].unique(),'\\n\\n\\n')\n",
    "\n",
    "print('Rating unique:', '\\n')\n",
    "print(movie_data.Rating.unique(), '\\n\\n\\n')\n",
    "\n",
    "print('Duration unique:', '\\n')\n",
    "print(movie_data['Duration'].unique(), '\\n\\n\\n')\n",
    "\n",
    "print('Value counts Director:', '\\n')\n",
    "print(movie_data['Director'].value_counts(), '\\n\\n\\n')"
   ]
  },
  {
   "cell_type": "markdown",
   "id": "c63fc080",
   "metadata": {},
   "source": [
    "# Cleaning data"
   ]
  },
  {
   "cell_type": "code",
   "execution_count": 9,
   "id": "841af973",
   "metadata": {},
   "outputs": [
    {
     "name": "stderr",
     "output_type": "stream",
     "text": [
      "C:\\Users\\rajat\\AppData\\Local\\Temp\\ipykernel_23200\\449725334.py:1: FutureWarning: A value is trying to be set on a copy of a DataFrame or Series through chained assignment using an inplace method.\n",
      "The behavior will change in pandas 3.0. This inplace method will never work because the intermediate object on which we are setting values always behaves as a copy.\n",
      "\n",
      "For example, when doing 'df[col].method(value, inplace=True)', try using 'df.method({col: value}, inplace=True)' or df[col] = df[col].method(value) instead, to perform the operation inplace on the original object.\n",
      "\n",
      "\n",
      "  movie_data['Rating'].fillna(movie_data['Rating'].mean(), inplace = True)\n"
     ]
    }
   ],
   "source": [
    "movie_data['Rating'].fillna(movie_data['Rating'].mean(), inplace = True)"
   ]
  },
  {
   "cell_type": "code",
   "execution_count": 10,
   "id": "1e820d74",
   "metadata": {},
   "outputs": [
    {
     "name": "stdout",
     "output_type": "stream",
     "text": [
      "<class 'pandas.core.frame.DataFrame'>\n",
      "RangeIndex: 15509 entries, 0 to 15508\n",
      "Data columns (total 10 columns):\n",
      " #   Column    Non-Null Count  Dtype  \n",
      "---  ------    --------------  -----  \n",
      " 0   Name      15509 non-null  object \n",
      " 1   Year      14981 non-null  object \n",
      " 2   Duration  7240 non-null   object \n",
      " 3   Genre     13632 non-null  object \n",
      " 4   Rating    15509 non-null  float64\n",
      " 5   Votes     7920 non-null   object \n",
      " 6   Director  14984 non-null  object \n",
      " 7   Actor 1   13892 non-null  object \n",
      " 8   Actor 2   13125 non-null  object \n",
      " 9   Actor 3   12365 non-null  object \n",
      "dtypes: float64(1), object(9)\n",
      "memory usage: 1.2+ MB\n"
     ]
    }
   ],
   "source": [
    "movie_data.info()"
   ]
  },
  {
   "cell_type": "code",
   "execution_count": 11,
   "id": "5d9a7373",
   "metadata": {},
   "outputs": [],
   "source": [
    "movie_data.dropna(subset = ['Director', 'Actor 1', 'Actor 2', 'Actor 3', 'Genre'], inplace = True)"
   ]
  },
  {
   "cell_type": "code",
   "execution_count": 12,
   "id": "b376e4d1",
   "metadata": {},
   "outputs": [
    {
     "data": {
      "text/plain": [
       "Name           0\n",
       "Year         282\n",
       "Duration    4839\n",
       "Genre          0\n",
       "Rating         0\n",
       "Votes       3809\n",
       "Director       0\n",
       "Actor 1        0\n",
       "Actor 2        0\n",
       "Actor 3        0\n",
       "dtype: int64"
      ]
     },
     "execution_count": 12,
     "metadata": {},
     "output_type": "execute_result"
    }
   ],
   "source": [
    "movie_data.isnull().sum()"
   ]
  },
  {
   "cell_type": "code",
   "execution_count": 13,
   "id": "4e5d1111",
   "metadata": {},
   "outputs": [
    {
     "name": "stderr",
     "output_type": "stream",
     "text": [
      "C:\\Users\\rajat\\AppData\\Local\\Temp\\ipykernel_23200\\4121931382.py:3: FutureWarning: A value is trying to be set on a copy of a DataFrame or Series through chained assignment using an inplace method.\n",
      "The behavior will change in pandas 3.0. This inplace method will never work because the intermediate object on which we are setting values always behaves as a copy.\n",
      "\n",
      "For example, when doing 'df[col].method(value, inplace=True)', try using 'df.method({col: value}, inplace=True)' or df[col] = df[col].method(value) instead, to perform the operation inplace on the original object.\n",
      "\n",
      "\n",
      "  movie_data['Duration'].fillna(movie_data['Duration'].mean(), inplace = True)\n"
     ]
    }
   ],
   "source": [
    "movie_data['Duration'] = movie_data['Duration'].astype(str)\n",
    "movie_data['Duration'] = pd.to_numeric(movie_data['Duration'].str.replace(' min', ''),errors = 'coerce')\n",
    "movie_data['Duration'].fillna(movie_data['Duration'].mean(), inplace = True)"
   ]
  },
  {
   "cell_type": "code",
   "execution_count": 14,
   "id": "99d7ed1b",
   "metadata": {},
   "outputs": [
    {
     "data": {
      "text/plain": [
       "Name           0\n",
       "Year         282\n",
       "Duration       0\n",
       "Genre          0\n",
       "Rating         0\n",
       "Votes       3809\n",
       "Director       0\n",
       "Actor 1        0\n",
       "Actor 2        0\n",
       "Actor 3        0\n",
       "dtype: int64"
      ]
     },
     "execution_count": 14,
     "metadata": {},
     "output_type": "execute_result"
    }
   ],
   "source": [
    "movie_data.isnull().sum()"
   ]
  },
  {
   "cell_type": "code",
   "execution_count": 15,
   "id": "fb245760",
   "metadata": {},
   "outputs": [],
   "source": [
    "movie_data.dropna(subset = ['Year', 'Votes'], inplace = True)"
   ]
  },
  {
   "cell_type": "code",
   "execution_count": 16,
   "id": "e0d31c88",
   "metadata": {},
   "outputs": [
    {
     "name": "stdout",
     "output_type": "stream",
     "text": [
      "<class 'pandas.core.frame.DataFrame'>\n",
      "Index: 7559 entries, 1 to 15508\n",
      "Data columns (total 10 columns):\n",
      " #   Column    Non-Null Count  Dtype  \n",
      "---  ------    --------------  -----  \n",
      " 0   Name      7559 non-null   object \n",
      " 1   Year      7559 non-null   object \n",
      " 2   Duration  7559 non-null   float64\n",
      " 3   Genre     7559 non-null   object \n",
      " 4   Rating    7559 non-null   float64\n",
      " 5   Votes     7559 non-null   object \n",
      " 6   Director  7559 non-null   object \n",
      " 7   Actor 1   7559 non-null   object \n",
      " 8   Actor 2   7559 non-null   object \n",
      " 9   Actor 3   7559 non-null   object \n",
      "dtypes: float64(2), object(8)\n",
      "memory usage: 649.6+ KB\n"
     ]
    }
   ],
   "source": [
    "movie_data.info()"
   ]
  },
  {
   "cell_type": "code",
   "execution_count": 17,
   "id": "c9d37078",
   "metadata": {},
   "outputs": [],
   "source": [
    "movie_data['Year'] = movie_data['Year'].str.replace(r'\\D','', regex=True).astype(int)"
   ]
  },
  {
   "cell_type": "code",
   "execution_count": 18,
   "id": "28a23fcc",
   "metadata": {},
   "outputs": [
    {
     "name": "stdout",
     "output_type": "stream",
     "text": [
      "<class 'pandas.core.frame.DataFrame'>\n",
      "Index: 7559 entries, 1 to 15508\n",
      "Data columns (total 10 columns):\n",
      " #   Column    Non-Null Count  Dtype  \n",
      "---  ------    --------------  -----  \n",
      " 0   Name      7559 non-null   object \n",
      " 1   Year      7559 non-null   int32  \n",
      " 2   Duration  7559 non-null   float64\n",
      " 3   Genre     7559 non-null   object \n",
      " 4   Rating    7559 non-null   float64\n",
      " 5   Votes     7559 non-null   object \n",
      " 6   Director  7559 non-null   object \n",
      " 7   Actor 1   7559 non-null   object \n",
      " 8   Actor 2   7559 non-null   object \n",
      " 9   Actor 3   7559 non-null   object \n",
      "dtypes: float64(2), int32(1), object(7)\n",
      "memory usage: 620.1+ KB\n"
     ]
    }
   ],
   "source": [
    "movie_data.info()"
   ]
  },
  {
   "cell_type": "code",
   "execution_count": 19,
   "id": "097ba4cc",
   "metadata": {},
   "outputs": [],
   "source": [
    "movie_data['Votes'] = movie_data['Votes'].replace('[\\$,]', '', regex=True)\n",
    "\n",
    "# Convert the cleaned 'Votes' column to integer\n",
    "movie_data['Votes'] = pd.to_numeric(movie_data['Votes'], errors='coerce', downcast='integer')"
   ]
  },
  {
   "cell_type": "code",
   "execution_count": 20,
   "id": "c1e49a59",
   "metadata": {},
   "outputs": [
    {
     "name": "stdout",
     "output_type": "stream",
     "text": [
      "<class 'pandas.core.frame.DataFrame'>\n",
      "Index: 7559 entries, 1 to 15508\n",
      "Data columns (total 10 columns):\n",
      " #   Column    Non-Null Count  Dtype  \n",
      "---  ------    --------------  -----  \n",
      " 0   Name      7559 non-null   object \n",
      " 1   Year      7559 non-null   int32  \n",
      " 2   Duration  7559 non-null   float64\n",
      " 3   Genre     7559 non-null   object \n",
      " 4   Rating    7559 non-null   float64\n",
      " 5   Votes     7558 non-null   float64\n",
      " 6   Director  7559 non-null   object \n",
      " 7   Actor 1   7559 non-null   object \n",
      " 8   Actor 2   7559 non-null   object \n",
      " 9   Actor 3   7559 non-null   object \n",
      "dtypes: float64(3), int32(1), object(6)\n",
      "memory usage: 620.1+ KB\n"
     ]
    }
   ],
   "source": [
    "movie_data.info()"
   ]
  },
  {
   "cell_type": "code",
   "execution_count": 21,
   "id": "28eed3f7",
   "metadata": {},
   "outputs": [
    {
     "data": {
      "image/png": "[encoded data removed]",
      "text/plain": [
       "<Figure size 1500x1000 with 1 Axes>"
      ]
     },
     "metadata": {},
     "output_type": "display_data"
    }
   ],
   "source": [
    "#Year with best rating\n",
    "# Group by 'Year' and calculate the mean rating for each year\n",
    "average_rating_per_year = movie_data.groupby('Year')['Rating'].mean()\n",
    "\n",
    "# Find the year with the maximum average rating\n",
    "best_year = average_rating_per_year.idxmax()\n",
    "\n",
    "# Plotting the results\n",
    "plt.figure(figsize=(15, 10))\n",
    "average_rating_per_year.plot(marker='o', linestyle='-', color='b')\n",
    "plt.title('Average Rating per Year')\n",
    "plt.xlabel('Year')\n",
    "plt.ylabel('Average Rating')\n",
    "plt.grid(True)\n",
    "plt.show()"
   ]
  },
  {
   "cell_type": "code",
   "execution_count": 22,
   "id": "87dffa0d",
   "metadata": {},
   "outputs": [
    {
     "data": {
      "image/png": "[encoded data removed]",
      "text/plain": [
       "<Figure size 1000x600 with 1 Axes>"
      ]
     },
     "metadata": {},
     "output_type": "display_data"
    }
   ],
   "source": [
    "#Does length of movie have any impact with the rating?\n",
    "plt.figure(figsize=(10, 6))\n",
    "plt.scatter(movie_data['Duration'], movie_data['Rating'])\n",
    "plt.title('Scatter Plot of Movie Duration vs. Rating')\n",
    "plt.xlabel('Duration (minutes)')\n",
    "plt.ylabel('Rating')\n",
    "plt.grid(True)\n",
    "plt.show()"
   ]
  },
  {
   "cell_type": "code",
   "execution_count": 23,
   "id": "80a592f2",
   "metadata": {},
   "outputs": [
    {
     "name": "stdout",
     "output_type": "stream",
     "text": [
      "Correlation coefficient between Duration and Rating: 0.007272213892175094\n"
     ]
    }
   ],
   "source": [
    "correlation_coefficient = movie_data['Duration'].corr(movie_data['Rating'])\n",
    "print(f\"Correlation coefficient between Duration and Rating: {correlation_coefficient}\")"
   ]
  },
  {
   "cell_type": "code",
   "execution_count": 24,
   "id": "68ca28f4",
   "metadata": {},
   "outputs": [
    {
     "name": "stdout",
     "output_type": "stream",
     "text": [
      "Name                object\n",
      "Year        datetime64[ns]\n",
      "Duration           float64\n",
      "Genre               object\n",
      "Rating             float64\n",
      "Votes              float64\n",
      "Director            object\n",
      "Actor 1             object\n",
      "Actor 2             object\n",
      "Actor 3             object\n",
      "dtype: object\n"
     ]
    }
   ],
   "source": [
    "#Top 10 movies according to rating per year and overall.\n",
    "# Convert 'Year' column to datetime if it's not already in datetime format\n",
    "movie_data['Year'] = pd.to_datetime(movie_data['Year'], format='%Y')\n",
    "\n",
    "#check the dataframe\n",
    "movie_data = pd.DataFrame(movie_data)\n",
    "print(movie_data.dtypes)"
   ]
  },
  {
   "cell_type": "code",
   "execution_count": 25,
   "id": "432746b7",
   "metadata": {},
   "outputs": [
    {
     "name": "stdout",
     "output_type": "stream",
     "text": [
      "Top 10 movie overall\n"
     ]
    },
    {
     "data": {
      "text/html": [
       "<div>\n",
       "<style scoped>\n",
       "    .dataframe tbody tr th:only-of-type {\n",
       "        vertical-align: middle;\n",
       "    }\n",
       "\n",
       "    .dataframe tbody tr th {\n",
       "        vertical-align: top;\n",
       "    }\n",
       "\n",
       "    .dataframe thead th {\n",
       "        text-align: right;\n",
       "    }\n",
       "</style>\n",
       "<table border=\"1\" class=\"dataframe\">\n",
       "  <thead>\n",
       "    <tr style=\"text-align: right;\">\n",
       "      <th></th>\n",
       "      <th>Name</th>\n",
       "      <th>Year</th>\n",
       "      <th>Duration</th>\n",
       "      <th>Genre</th>\n",
       "      <th>Rating</th>\n",
       "      <th>Votes</th>\n",
       "      <th>Director</th>\n",
       "      <th>Actor 1</th>\n",
       "      <th>Actor 2</th>\n",
       "      <th>Actor 3</th>\n",
       "    </tr>\n",
       "  </thead>\n",
       "  <tbody>\n",
       "    <tr>\n",
       "      <th>8339</th>\n",
       "      <td>Love Qubool Hai</td>\n",
       "      <td>2020-01-01</td>\n",
       "      <td>94.000000</td>\n",
       "      <td>Drama, Romance</td>\n",
       "      <td>10.0</td>\n",
       "      <td>5.0</td>\n",
       "      <td>Saif Ali Sayeed</td>\n",
       "      <td>Ahaan Jha</td>\n",
       "      <td>Mahesh Narayan</td>\n",
       "      <td>Rajasree Rajakumari</td>\n",
       "    </tr>\n",
       "    <tr>\n",
       "      <th>5410</th>\n",
       "      <td>Half Songs</td>\n",
       "      <td>2021-01-01</td>\n",
       "      <td>79.000000</td>\n",
       "      <td>Music, Romance</td>\n",
       "      <td>9.7</td>\n",
       "      <td>7.0</td>\n",
       "      <td>Sriram Raja</td>\n",
       "      <td>Raj Banerjee</td>\n",
       "      <td>Emon Chatterjee</td>\n",
       "      <td>Purshottam Mulani</td>\n",
       "    </tr>\n",
       "    <tr>\n",
       "      <th>2563</th>\n",
       "      <td>Breed</td>\n",
       "      <td>2020-01-01</td>\n",
       "      <td>130.839792</td>\n",
       "      <td>Drama</td>\n",
       "      <td>9.6</td>\n",
       "      <td>48.0</td>\n",
       "      <td>Bobby Kumar</td>\n",
       "      <td>Bobby Kumar</td>\n",
       "      <td>Ashfaq</td>\n",
       "      <td>Fasih Choudhry</td>\n",
       "    </tr>\n",
       "    <tr>\n",
       "      <th>5077</th>\n",
       "      <td>Gho Gho Rani</td>\n",
       "      <td>2019-01-01</td>\n",
       "      <td>105.000000</td>\n",
       "      <td>History, Romance</td>\n",
       "      <td>9.4</td>\n",
       "      <td>47.0</td>\n",
       "      <td>Munni Pankaj</td>\n",
       "      <td>Nishi Neha Mishra</td>\n",
       "      <td>Pankaj Kamal</td>\n",
       "      <td>Akash Kumar</td>\n",
       "    </tr>\n",
       "    <tr>\n",
       "      <th>6852</th>\n",
       "      <td>June</td>\n",
       "      <td>2021-01-01</td>\n",
       "      <td>93.000000</td>\n",
       "      <td>Drama</td>\n",
       "      <td>9.4</td>\n",
       "      <td>18.0</td>\n",
       "      <td>Suhrud Godbole</td>\n",
       "      <td>Vaibhav Khisti</td>\n",
       "      <td>Nilesh Divekar</td>\n",
       "      <td>Jitendra Joshi</td>\n",
       "    </tr>\n",
       "    <tr>\n",
       "      <th>14222</th>\n",
       "      <td>The Reluctant Crime</td>\n",
       "      <td>2020-01-01</td>\n",
       "      <td>113.000000</td>\n",
       "      <td>Drama</td>\n",
       "      <td>9.4</td>\n",
       "      <td>16.0</td>\n",
       "      <td>Arvind Pratap</td>\n",
       "      <td>Dharmendra Ahir</td>\n",
       "      <td>Awanish Kotnal</td>\n",
       "      <td>Rakhi Mansha</td>\n",
       "    </tr>\n",
       "    <tr>\n",
       "      <th>1314</th>\n",
       "      <td>Ashok Vatika</td>\n",
       "      <td>2018-01-01</td>\n",
       "      <td>97.000000</td>\n",
       "      <td>Drama</td>\n",
       "      <td>9.3</td>\n",
       "      <td>7.0</td>\n",
       "      <td>Rahul Mallick</td>\n",
       "      <td>Kunj Anand</td>\n",
       "      <td>Sanjay Bishnoi</td>\n",
       "      <td>Paras Zutshi</td>\n",
       "    </tr>\n",
       "    <tr>\n",
       "      <th>1729</th>\n",
       "      <td>Baikunth</td>\n",
       "      <td>2021-01-01</td>\n",
       "      <td>72.000000</td>\n",
       "      <td>Family</td>\n",
       "      <td>9.3</td>\n",
       "      <td>29.0</td>\n",
       "      <td>Vishwa Bhanu</td>\n",
       "      <td>Vishwa Bhanu</td>\n",
       "      <td>Sangam Shukla</td>\n",
       "      <td>Vijay Thakur</td>\n",
       "    </tr>\n",
       "    <tr>\n",
       "      <th>5125</th>\n",
       "      <td>God of gods</td>\n",
       "      <td>2019-01-01</td>\n",
       "      <td>90.000000</td>\n",
       "      <td>Documentary</td>\n",
       "      <td>9.3</td>\n",
       "      <td>46.0</td>\n",
       "      <td>Venkatesh Bk</td>\n",
       "      <td>Tejaswini Manogna</td>\n",
       "      <td>Triyug Mantri</td>\n",
       "      <td>Raj Singh Verma</td>\n",
       "    </tr>\n",
       "    <tr>\n",
       "      <th>8344</th>\n",
       "      <td>Love Sorries</td>\n",
       "      <td>2021-01-01</td>\n",
       "      <td>101.000000</td>\n",
       "      <td>Comedy, Drama, Romance</td>\n",
       "      <td>9.3</td>\n",
       "      <td>79.0</td>\n",
       "      <td>Gautam Joshi</td>\n",
       "      <td>Prashant Chaubey</td>\n",
       "      <td>Puneet Chouksey</td>\n",
       "      <td>Amitabh Gupta</td>\n",
       "    </tr>\n",
       "  </tbody>\n",
       "</table>\n",
       "</div>"
      ],
      "text/plain": [
       "                      Name       Year    Duration                   Genre  \\\n",
       "8339       Love Qubool Hai 2020-01-01   94.000000          Drama, Romance   \n",
       "5410            Half Songs 2021-01-01   79.000000          Music, Romance   \n",
       "2563                 Breed 2020-01-01  130.839792                   Drama   \n",
       "5077          Gho Gho Rani 2019-01-01  105.000000        History, Romance   \n",
       "6852                  June 2021-01-01   93.000000                   Drama   \n",
       "14222  The Reluctant Crime 2020-01-01  113.000000                   Drama   \n",
       "1314          Ashok Vatika 2018-01-01   97.000000                   Drama   \n",
       "1729              Baikunth 2021-01-01   72.000000                  Family   \n",
       "5125           God of gods 2019-01-01   90.000000             Documentary   \n",
       "8344          Love Sorries 2021-01-01  101.000000  Comedy, Drama, Romance   \n",
       "\n",
       "       Rating  Votes         Director            Actor 1          Actor 2  \\\n",
       "8339     10.0    5.0  Saif Ali Sayeed          Ahaan Jha   Mahesh Narayan   \n",
       "5410      9.7    7.0      Sriram Raja       Raj Banerjee  Emon Chatterjee   \n",
       "2563      9.6   48.0      Bobby Kumar        Bobby Kumar           Ashfaq   \n",
       "5077      9.4   47.0     Munni Pankaj  Nishi Neha Mishra     Pankaj Kamal   \n",
       "6852      9.4   18.0   Suhrud Godbole     Vaibhav Khisti   Nilesh Divekar   \n",
       "14222     9.4   16.0    Arvind Pratap    Dharmendra Ahir   Awanish Kotnal   \n",
       "1314      9.3    7.0    Rahul Mallick         Kunj Anand   Sanjay Bishnoi   \n",
       "1729      9.3   29.0     Vishwa Bhanu       Vishwa Bhanu    Sangam Shukla   \n",
       "5125      9.3   46.0     Venkatesh Bk  Tejaswini Manogna    Triyug Mantri   \n",
       "8344      9.3   79.0     Gautam Joshi   Prashant Chaubey  Puneet Chouksey   \n",
       "\n",
       "                   Actor 3  \n",
       "8339   Rajasree Rajakumari  \n",
       "5410     Purshottam Mulani  \n",
       "2563        Fasih Choudhry  \n",
       "5077           Akash Kumar  \n",
       "6852        Jitendra Joshi  \n",
       "14222         Rakhi Mansha  \n",
       "1314          Paras Zutshi  \n",
       "1729          Vijay Thakur  \n",
       "5125       Raj Singh Verma  \n",
       "8344         Amitabh Gupta  "
      ]
     },
     "execution_count": 25,
     "metadata": {},
     "output_type": "execute_result"
    }
   ],
   "source": [
    "#Top 10 movie overall\n",
    "top_10_movie = movie_data.nlargest(10, 'Rating')\n",
    "print(\"Top 10 movie overall\")\n",
    "top_10_movie"
   ]
  },
  {
   "cell_type": "code",
   "execution_count": 26,
   "id": "be0b67e8",
   "metadata": {},
   "outputs": [
    {
     "name": "stdout",
     "output_type": "stream",
     "text": [
      "Top 10 movie per year\n"
     ]
    },
    {
     "data": {
      "text/html": [
       "<div>\n",
       "<style scoped>\n",
       "    .dataframe tbody tr th:only-of-type {\n",
       "        vertical-align: middle;\n",
       "    }\n",
       "\n",
       "    .dataframe tbody tr th {\n",
       "        vertical-align: top;\n",
       "    }\n",
       "\n",
       "    .dataframe thead th {\n",
       "        text-align: right;\n",
       "    }\n",
       "</style>\n",
       "<table border=\"1\" class=\"dataframe\">\n",
       "  <thead>\n",
       "    <tr style=\"text-align: right;\">\n",
       "      <th></th>\n",
       "      <th>Name</th>\n",
       "      <th>Year</th>\n",
       "      <th>Duration</th>\n",
       "      <th>Genre</th>\n",
       "      <th>Rating</th>\n",
       "      <th>Votes</th>\n",
       "      <th>Director</th>\n",
       "      <th>Actor 1</th>\n",
       "      <th>Actor 2</th>\n",
       "      <th>Actor 3</th>\n",
       "    </tr>\n",
       "  </thead>\n",
       "  <tbody>\n",
       "    <tr>\n",
       "      <th>8146</th>\n",
       "      <td>Lanka Dahan</td>\n",
       "      <td>1917-01-01</td>\n",
       "      <td>130.839792</td>\n",
       "      <td>Adventure, Drama, Fantasy</td>\n",
       "      <td>6.7</td>\n",
       "      <td>22.0</td>\n",
       "      <td>Dhundiraj Govind Phalke</td>\n",
       "      <td>Anna Salunke</td>\n",
       "      <td>Ganpat G. Shinde</td>\n",
       "      <td>D.D. Dabke</td>\n",
       "    </tr>\n",
       "    <tr>\n",
       "      <th>7203</th>\n",
       "      <td>Kalidas</td>\n",
       "      <td>1931-01-01</td>\n",
       "      <td>130.839792</td>\n",
       "      <td>Drama, History, Musical</td>\n",
       "      <td>6.2</td>\n",
       "      <td>12.0</td>\n",
       "      <td>H.M. Reddy</td>\n",
       "      <td>T.P. Rajalakshmi</td>\n",
       "      <td>P.G. Venkatesan</td>\n",
       "      <td>L.V. Prasad</td>\n",
       "    </tr>\n",
       "    <tr>\n",
       "      <th>14161</th>\n",
       "      <td>The Light of the World</td>\n",
       "      <td>1931-01-01</td>\n",
       "      <td>124.000000</td>\n",
       "      <td>Drama, Fantasy</td>\n",
       "      <td>6.2</td>\n",
       "      <td>112.0</td>\n",
       "      <td>Ardeshir Irani</td>\n",
       "      <td>Master Vithal</td>\n",
       "      <td>Zubeida</td>\n",
       "      <td>Jillo</td>\n",
       "    </tr>\n",
       "    <tr>\n",
       "      <th>4171</th>\n",
       "      <td>Draupadi</td>\n",
       "      <td>1931-01-01</td>\n",
       "      <td>124.000000</td>\n",
       "      <td>Drama</td>\n",
       "      <td>5.3</td>\n",
       "      <td>6.0</td>\n",
       "      <td>Bhagwati Prasad Mishra</td>\n",
       "      <td>Khalil</td>\n",
       "      <td>Ermeline</td>\n",
       "      <td>Jillo</td>\n",
       "    </tr>\n",
       "    <tr>\n",
       "      <th>6073</th>\n",
       "      <td>Indrasabha</td>\n",
       "      <td>1932-01-01</td>\n",
       "      <td>211.000000</td>\n",
       "      <td>Musical, Romance</td>\n",
       "      <td>6.0</td>\n",
       "      <td>12.0</td>\n",
       "      <td>J.J. Madan</td>\n",
       "      <td>Nissar</td>\n",
       "      <td>Jehanara Kajjan</td>\n",
       "      <td>Abdul Rehman Kabuli</td>\n",
       "    </tr>\n",
       "    <tr>\n",
       "      <th>...</th>\n",
       "      <td>...</td>\n",
       "      <td>...</td>\n",
       "      <td>...</td>\n",
       "      <td>...</td>\n",
       "      <td>...</td>\n",
       "      <td>...</td>\n",
       "      <td>...</td>\n",
       "      <td>...</td>\n",
       "      <td>...</td>\n",
       "      <td>...</td>\n",
       "    </tr>\n",
       "    <tr>\n",
       "      <th>12673</th>\n",
       "      <td>Secrets of Sinauli</td>\n",
       "      <td>2021-01-01</td>\n",
       "      <td>56.000000</td>\n",
       "      <td>Documentary, History</td>\n",
       "      <td>9.3</td>\n",
       "      <td>1373.0</td>\n",
       "      <td>Raghav Jairath</td>\n",
       "      <td>Manoj Bajpayee</td>\n",
       "      <td>R.S. Bhist</td>\n",
       "      <td>K.N. Dixit</td>\n",
       "    </tr>\n",
       "    <tr>\n",
       "      <th>6952</th>\n",
       "      <td>Kaadan</td>\n",
       "      <td>2021-01-01</td>\n",
       "      <td>170.000000</td>\n",
       "      <td>Action, Drama, Fantasy</td>\n",
       "      <td>9.1</td>\n",
       "      <td>2219.0</td>\n",
       "      <td>Prabu Solomon</td>\n",
       "      <td>Raghu Babu</td>\n",
       "      <td>Rana Daggubati</td>\n",
       "      <td>Abudhar Al Hassan</td>\n",
       "    </tr>\n",
       "    <tr>\n",
       "      <th>3224</th>\n",
       "      <td>Consequence Karma</td>\n",
       "      <td>2021-01-01</td>\n",
       "      <td>92.000000</td>\n",
       "      <td>Drama, Thriller</td>\n",
       "      <td>9.0</td>\n",
       "      <td>223.0</td>\n",
       "      <td>Shadab Ahmad</td>\n",
       "      <td>Sidharth Bhardwaj</td>\n",
       "      <td>Monis Khan</td>\n",
       "      <td>Pooja Gupta</td>\n",
       "    </tr>\n",
       "    <tr>\n",
       "      <th>9504</th>\n",
       "      <td>Moral Nights</td>\n",
       "      <td>2021-01-01</td>\n",
       "      <td>93.000000</td>\n",
       "      <td>Drama</td>\n",
       "      <td>9.0</td>\n",
       "      <td>37.0</td>\n",
       "      <td>S. Sunil</td>\n",
       "      <td>Kannanunni</td>\n",
       "      <td>Santhosh Keezhattoor</td>\n",
       "      <td>Sandra Larwin</td>\n",
       "    </tr>\n",
       "    <tr>\n",
       "      <th>14898</th>\n",
       "      <td>Viraat</td>\n",
       "      <td>2021-01-01</td>\n",
       "      <td>150.000000</td>\n",
       "      <td>Crime</td>\n",
       "      <td>8.9</td>\n",
       "      <td>294.0</td>\n",
       "      <td>Narendra Singh</td>\n",
       "      <td>Kritika Sachdeva</td>\n",
       "      <td>Ravi Jhanghu</td>\n",
       "      <td>Lokesh Tilakdhari</td>\n",
       "    </tr>\n",
       "  </tbody>\n",
       "</table>\n",
       "<p>850 rows × 10 columns</p>\n",
       "</div>"
      ],
      "text/plain": [
       "                         Name       Year    Duration  \\\n",
       "8146              Lanka Dahan 1917-01-01  130.839792   \n",
       "7203                  Kalidas 1931-01-01  130.839792   \n",
       "14161  The Light of the World 1931-01-01  124.000000   \n",
       "4171                 Draupadi 1931-01-01  124.000000   \n",
       "6073               Indrasabha 1932-01-01  211.000000   \n",
       "...                       ...        ...         ...   \n",
       "12673      Secrets of Sinauli 2021-01-01   56.000000   \n",
       "6952                   Kaadan 2021-01-01  170.000000   \n",
       "3224        Consequence Karma 2021-01-01   92.000000   \n",
       "9504             Moral Nights 2021-01-01   93.000000   \n",
       "14898                  Viraat 2021-01-01  150.000000   \n",
       "\n",
       "                           Genre  Rating   Votes                 Director  \\\n",
       "8146   Adventure, Drama, Fantasy     6.7    22.0  Dhundiraj Govind Phalke   \n",
       "7203     Drama, History, Musical     6.2    12.0               H.M. Reddy   \n",
       "14161             Drama, Fantasy     6.2   112.0           Ardeshir Irani   \n",
       "4171                       Drama     5.3     6.0   Bhagwati Prasad Mishra   \n",
       "6073            Musical, Romance     6.0    12.0               J.J. Madan   \n",
       "...                          ...     ...     ...                      ...   \n",
       "12673       Documentary, History     9.3  1373.0           Raghav Jairath   \n",
       "6952      Action, Drama, Fantasy     9.1  2219.0            Prabu Solomon   \n",
       "3224             Drama, Thriller     9.0   223.0             Shadab Ahmad   \n",
       "9504                       Drama     9.0    37.0                 S. Sunil   \n",
       "14898                      Crime     8.9   294.0           Narendra Singh   \n",
       "\n",
       "                 Actor 1               Actor 2              Actor 3  \n",
       "8146        Anna Salunke      Ganpat G. Shinde           D.D. Dabke  \n",
       "7203    T.P. Rajalakshmi       P.G. Venkatesan          L.V. Prasad  \n",
       "14161      Master Vithal               Zubeida                Jillo  \n",
       "4171              Khalil              Ermeline                Jillo  \n",
       "6073              Nissar       Jehanara Kajjan  Abdul Rehman Kabuli  \n",
       "...                  ...                   ...                  ...  \n",
       "12673     Manoj Bajpayee            R.S. Bhist           K.N. Dixit  \n",
       "6952          Raghu Babu        Rana Daggubati    Abudhar Al Hassan  \n",
       "3224   Sidharth Bhardwaj            Monis Khan          Pooja Gupta  \n",
       "9504          Kannanunni  Santhosh Keezhattoor        Sandra Larwin  \n",
       "14898   Kritika Sachdeva          Ravi Jhanghu    Lokesh Tilakdhari  \n",
       "\n",
       "[850 rows x 10 columns]"
      ]
     },
     "execution_count": 26,
     "metadata": {},
     "output_type": "execute_result"
    }
   ],
   "source": [
    "#top 10 movie per year\n",
    "top_10_movie = movie_data.sort_values(by = ['Year', 'Rating'], ascending = [True, False]).groupby('Year')\n",
    "\n",
    "print(\"Top 10 movie per year\")\n",
    "top_10_movie.head(10)"
   ]
  },
  {
   "cell_type": "code",
   "execution_count": 27,
   "id": "6e3fa945",
   "metadata": {},
   "outputs": [
    {
     "data": {
      "text/html": [
       "<div>\n",
       "<style scoped>\n",
       "    .dataframe tbody tr th:only-of-type {\n",
       "        vertical-align: middle;\n",
       "    }\n",
       "\n",
       "    .dataframe tbody tr th {\n",
       "        vertical-align: top;\n",
       "    }\n",
       "\n",
       "    .dataframe thead th {\n",
       "        text-align: right;\n",
       "    }\n",
       "</style>\n",
       "<table border=\"1\" class=\"dataframe\">\n",
       "  <thead>\n",
       "    <tr style=\"text-align: right;\">\n",
       "      <th></th>\n",
       "      <th>Year</th>\n",
       "      <th>Name</th>\n",
       "    </tr>\n",
       "  </thead>\n",
       "  <tbody>\n",
       "    <tr>\n",
       "      <th>0</th>\n",
       "      <td>1933-01-01</td>\n",
       "      <td>[Alif Laila]</td>\n",
       "    </tr>\n",
       "    <tr>\n",
       "      <th>1</th>\n",
       "      <td>1934-01-01</td>\n",
       "      <td>[Mazdoor]</td>\n",
       "    </tr>\n",
       "    <tr>\n",
       "      <th>2</th>\n",
       "      <td>1935-01-01</td>\n",
       "      <td>[Inquilab]</td>\n",
       "    </tr>\n",
       "    <tr>\n",
       "      <th>3</th>\n",
       "      <td>1936-01-01</td>\n",
       "      <td>[Jeevan Naya]</td>\n",
       "    </tr>\n",
       "    <tr>\n",
       "      <th>4</th>\n",
       "      <td>1937-01-01</td>\n",
       "      <td>[Bidyapati, Duniya Na Mane]</td>\n",
       "    </tr>\n",
       "    <tr>\n",
       "      <th>...</th>\n",
       "      <td>...</td>\n",
       "      <td>...</td>\n",
       "    </tr>\n",
       "    <tr>\n",
       "      <th>83</th>\n",
       "      <td>2017-01-01</td>\n",
       "      <td>[Ajji, B for Bundelkhand, Baaki Itihaas, Babum...</td>\n",
       "    </tr>\n",
       "    <tr>\n",
       "      <th>84</th>\n",
       "      <td>2018-01-01</td>\n",
       "      <td>[102 Not Out, 3 Storeys, AA BB KK, Aadamkhor, ...</td>\n",
       "    </tr>\n",
       "    <tr>\n",
       "      <th>85</th>\n",
       "      <td>2019-01-01</td>\n",
       "      <td>[#Gadhvi (He thought he was Gandhi), 3 Dev, 99...</td>\n",
       "    </tr>\n",
       "    <tr>\n",
       "      <th>86</th>\n",
       "      <td>2020-01-01</td>\n",
       "      <td>[AK vs AK, All Ladies Do It, Angrezi Medium, A...</td>\n",
       "    </tr>\n",
       "    <tr>\n",
       "      <th>87</th>\n",
       "      <td>2021-01-01</td>\n",
       "      <td>[Ammaa Ki Boli, Antenna, B.A. Pass 3, Baikunth...</td>\n",
       "    </tr>\n",
       "  </tbody>\n",
       "</table>\n",
       "<p>88 rows × 2 columns</p>\n",
       "</div>"
      ],
      "text/plain": [
       "         Year                                               Name\n",
       "0  1933-01-01                                       [Alif Laila]\n",
       "1  1934-01-01                                          [Mazdoor]\n",
       "2  1935-01-01                                         [Inquilab]\n",
       "3  1936-01-01                                      [Jeevan Naya]\n",
       "4  1937-01-01                        [Bidyapati, Duniya Na Mane]\n",
       "..        ...                                                ...\n",
       "83 2017-01-01  [Ajji, B for Bundelkhand, Baaki Itihaas, Babum...\n",
       "84 2018-01-01  [102 Not Out, 3 Storeys, AA BB KK, Aadamkhor, ...\n",
       "85 2019-01-01  [#Gadhvi (He thought he was Gandhi), 3 Dev, 99...\n",
       "86 2020-01-01  [AK vs AK, All Ladies Do It, Angrezi Medium, A...\n",
       "87 2021-01-01  [Ammaa Ki Boli, Antenna, B.A. Pass 3, Baikunth...\n",
       "\n",
       "[88 rows x 2 columns]"
      ]
     },
     "execution_count": 27,
     "metadata": {},
     "output_type": "execute_result"
    }
   ],
   "source": [
    "#4) Number of popular movies released each year.\n",
    "rating_threshold = movie_data['Rating'].quantile(0.75)\n",
    "popular_movie = movie_data[movie_data['Rating'] > rating_threshold]\n",
    "popular_movie_per_year = popular_movie.groupby('Year')['Name'].agg(list).reset_index()\n",
    "popular_movie_per_year"
   ]
  },
  {
   "cell_type": "code",
   "execution_count": 28,
   "id": "f54fefbe",
   "metadata": {},
   "outputs": [],
   "source": [
    "movie_data.rename(columns = {'Votes': 'Number_of_votes'}, inplace = True)"
   ]
  },
  {
   "cell_type": "code",
   "execution_count": 29,
   "id": "3c7e2bb5",
   "metadata": {
    "scrolled": false
   },
   "outputs": [
    {
     "name": "stdout",
     "output_type": "stream",
     "text": [
      "Best-rated movies per year:\n",
      "            Year                 Name  Rating  Total_votes\n",
      "8146  1917-01-01          Lanka Dahan     6.7         22.0\n",
      "7203  1931-01-01              Kalidas     6.2         12.0\n",
      "6073  1932-01-01           Indrasabha     6.0         12.0\n",
      "851   1933-01-01           Alif Laila     7.2         37.0\n",
      "9053  1934-01-01              Mazdoor     8.5        105.0\n",
      "...          ...                  ...     ...          ...\n",
      "11841 2017-01-01  Rediscovering India     9.0         62.0\n",
      "1314  2018-01-01         Ashok Vatika     9.3          7.0\n",
      "5077  2019-01-01         Gho Gho Rani     9.4         47.0\n",
      "8339  2020-01-01      Love Qubool Hai    10.0          5.0\n",
      "5410  2021-01-01           Half Songs     9.7          7.0\n",
      "\n",
      "[92 rows x 4 columns]\n",
      "\n",
      "Overall best-rated movie:\n",
      "Name           Love Qubool Hai\n",
      "Rating                    10.0\n",
      "Total_votes                5.0\n",
      "Name: 8339, dtype: object\n"
     ]
    }
   ],
   "source": [
    "# Counting the number of votes which movies performed better in rating per year and overall.\n",
    "\n",
    "# calculate total vote per movie\n",
    "movie_data['Total_votes'] = movie_data.groupby('Name')['Number_of_votes'].transform('sum')\n",
    "\n",
    "#find best rated movie per year\n",
    "best_rated_movie_per_year = movie_data.loc[movie_data.groupby('Year')['Rating'].idxmax()]\n",
    "\n",
    "#find the overall best rated movie\n",
    "overall_best_rated_movie = movie_data.loc[movie_data['Rating'].idxmax()]\n",
    "\n",
    "#display the results\n",
    "print(\"Best-rated movies per year:\")\n",
    "print(best_rated_movie_per_year[['Year', 'Name', 'Rating', 'Total_votes']])\n",
    "\n",
    "print(\"\\nOverall best-rated movie:\")\n",
    "print(overall_best_rated_movie[['Name', 'Rating', 'Total_votes']])"
   ]
  },
  {
   "cell_type": "code",
   "execution_count": 30,
   "id": "6445175e",
   "metadata": {},
   "outputs": [
    {
     "name": "stdout",
     "output_type": "stream",
     "text": [
      "The director who directed the most movies is: Mahesh Bhatt\n",
      "Number of movies directed by Director\n",
      "Mahesh Bhatt    45\n",
      "Name: count, dtype: int64 : 45\n"
     ]
    }
   ],
   "source": [
    "#Which director directed the most movies\n",
    "# Count the number of movies directed by each director\n",
    "director_movie_count = movie_data['Director'].value_counts().head(1)\n",
    "\n",
    "# Find the director who directed the most movies\n",
    "most_movies_directed = director_movie_count.idxmax()\n",
    "num_movies_directed = director_movie_count.max()\n",
    "#display the result\n",
    "print(f\"The director who directed the most movies is: {most_movies_directed}\")\n",
    "print(\"Number of movies directed by\", director_movie_count, \":\", num_movies_directed)"
   ]
  },
  {
   "cell_type": "code",
   "execution_count": 31,
   "id": "1bc78d26",
   "metadata": {},
   "outputs": [
    {
     "data": {
      "image/png": "[encoded data removed]",
      "text/plain": [
       "<Figure size 1000x600 with 1 Axes>"
      ]
     },
     "metadata": {},
     "output_type": "display_data"
    }
   ],
   "source": [
    "# Count the number of movies directed by each director\n",
    "director_movie_count = movie_data['Director'].value_counts()\n",
    "\n",
    "director_movie_head = director_movie_count.head(10)\n",
    "# Plotting the bar chart\n",
    "plt.figure(figsize=(10, 6))\n",
    "director_movie_head.plot(kind='bar', color='skyblue')\n",
    "plt.title('Number of Movies Directed by Each Director')\n",
    "plt.xlabel('Director')\n",
    "plt.ylabel('Number of Movies')\n",
    "plt.show()"
   ]
  },
  {
   "cell_type": "code",
   "execution_count": 32,
   "id": "ab85ff27",
   "metadata": {},
   "outputs": [],
   "source": [
    "\n",
    "#Adjust in one columns\n",
    "movie_data['Actors'] = movie_data['Actor 1'] + movie_data['Actor 2'] + movie_data['Actor 3']"
   ]
  },
  {
   "cell_type": "code",
   "execution_count": 33,
   "id": "e5780283",
   "metadata": {},
   "outputs": [
    {
     "data": {
      "text/html": [
       "<div>\n",
       "<style scoped>\n",
       "    .dataframe tbody tr th:only-of-type {\n",
       "        vertical-align: middle;\n",
       "    }\n",
       "\n",
       "    .dataframe tbody tr th {\n",
       "        vertical-align: top;\n",
       "    }\n",
       "\n",
       "    .dataframe thead th {\n",
       "        text-align: right;\n",
       "    }\n",
       "</style>\n",
       "<table border=\"1\" class=\"dataframe\">\n",
       "  <thead>\n",
       "    <tr style=\"text-align: right;\">\n",
       "      <th></th>\n",
       "      <th>Name</th>\n",
       "      <th>Year</th>\n",
       "      <th>Duration</th>\n",
       "      <th>Genre</th>\n",
       "      <th>Rating</th>\n",
       "      <th>Number_of_votes</th>\n",
       "      <th>Director</th>\n",
       "      <th>Actor 1</th>\n",
       "      <th>Actor 2</th>\n",
       "      <th>Actor 3</th>\n",
       "      <th>Total_votes</th>\n",
       "      <th>Actors</th>\n",
       "    </tr>\n",
       "  </thead>\n",
       "  <tbody>\n",
       "    <tr>\n",
       "      <th>1</th>\n",
       "      <td>#Gadhvi (He thought he was Gandhi)</td>\n",
       "      <td>2019-01-01</td>\n",
       "      <td>109.0</td>\n",
       "      <td>Drama</td>\n",
       "      <td>7.0</td>\n",
       "      <td>8.0</td>\n",
       "      <td>Gaurav Bakshi</td>\n",
       "      <td>Rasika Dugal</td>\n",
       "      <td>Vivek Ghamande</td>\n",
       "      <td>Arvind Jangid</td>\n",
       "      <td>8.0</td>\n",
       "      <td>Rasika DugalVivek GhamandeArvind Jangid</td>\n",
       "    </tr>\n",
       "    <tr>\n",
       "      <th>3</th>\n",
       "      <td>#Yaaram</td>\n",
       "      <td>2019-01-01</td>\n",
       "      <td>110.0</td>\n",
       "      <td>Comedy, Romance</td>\n",
       "      <td>4.4</td>\n",
       "      <td>35.0</td>\n",
       "      <td>Ovais Khan</td>\n",
       "      <td>Prateik</td>\n",
       "      <td>Ishita Raj</td>\n",
       "      <td>Siddhant Kapoor</td>\n",
       "      <td>35.0</td>\n",
       "      <td>PrateikIshita RajSiddhant Kapoor</td>\n",
       "    </tr>\n",
       "    <tr>\n",
       "      <th>5</th>\n",
       "      <td>...Aur Pyaar Ho Gaya</td>\n",
       "      <td>1997-01-01</td>\n",
       "      <td>147.0</td>\n",
       "      <td>Comedy, Drama, Musical</td>\n",
       "      <td>4.7</td>\n",
       "      <td>827.0</td>\n",
       "      <td>Rahul Rawail</td>\n",
       "      <td>Bobby Deol</td>\n",
       "      <td>Aishwarya Rai Bachchan</td>\n",
       "      <td>Shammi Kapoor</td>\n",
       "      <td>827.0</td>\n",
       "      <td>Bobby DeolAishwarya Rai BachchanShammi Kapoor</td>\n",
       "    </tr>\n",
       "    <tr>\n",
       "      <th>6</th>\n",
       "      <td>...Yahaan</td>\n",
       "      <td>2005-01-01</td>\n",
       "      <td>142.0</td>\n",
       "      <td>Drama, Romance, War</td>\n",
       "      <td>7.4</td>\n",
       "      <td>1086.0</td>\n",
       "      <td>Shoojit Sircar</td>\n",
       "      <td>Jimmy Sheirgill</td>\n",
       "      <td>Minissha Lamba</td>\n",
       "      <td>Yashpal Sharma</td>\n",
       "      <td>1086.0</td>\n",
       "      <td>Jimmy SheirgillMinissha LambaYashpal Sharma</td>\n",
       "    </tr>\n",
       "    <tr>\n",
       "      <th>8</th>\n",
       "      <td>?: A Question Mark</td>\n",
       "      <td>2012-01-01</td>\n",
       "      <td>82.0</td>\n",
       "      <td>Horror, Mystery, Thriller</td>\n",
       "      <td>5.6</td>\n",
       "      <td>326.0</td>\n",
       "      <td>Allyson Patel</td>\n",
       "      <td>Yash Dave</td>\n",
       "      <td>Muntazir Ahmad</td>\n",
       "      <td>Kiran Bhatia</td>\n",
       "      <td>326.0</td>\n",
       "      <td>Yash DaveMuntazir AhmadKiran Bhatia</td>\n",
       "    </tr>\n",
       "  </tbody>\n",
       "</table>\n",
       "</div>"
      ],
      "text/plain": [
       "                                 Name       Year  Duration  \\\n",
       "1  #Gadhvi (He thought he was Gandhi) 2019-01-01     109.0   \n",
       "3                             #Yaaram 2019-01-01     110.0   \n",
       "5                ...Aur Pyaar Ho Gaya 1997-01-01     147.0   \n",
       "6                           ...Yahaan 2005-01-01     142.0   \n",
       "8                  ?: A Question Mark 2012-01-01      82.0   \n",
       "\n",
       "                       Genre  Rating  Number_of_votes        Director  \\\n",
       "1                      Drama     7.0              8.0   Gaurav Bakshi   \n",
       "3            Comedy, Romance     4.4             35.0      Ovais Khan   \n",
       "5     Comedy, Drama, Musical     4.7            827.0    Rahul Rawail   \n",
       "6        Drama, Romance, War     7.4           1086.0  Shoojit Sircar   \n",
       "8  Horror, Mystery, Thriller     5.6            326.0   Allyson Patel   \n",
       "\n",
       "           Actor 1                 Actor 2          Actor 3  Total_votes  \\\n",
       "1     Rasika Dugal          Vivek Ghamande    Arvind Jangid          8.0   \n",
       "3          Prateik              Ishita Raj  Siddhant Kapoor         35.0   \n",
       "5       Bobby Deol  Aishwarya Rai Bachchan    Shammi Kapoor        827.0   \n",
       "6  Jimmy Sheirgill          Minissha Lamba   Yashpal Sharma       1086.0   \n",
       "8        Yash Dave          Muntazir Ahmad     Kiran Bhatia        326.0   \n",
       "\n",
       "                                          Actors  \n",
       "1        Rasika DugalVivek GhamandeArvind Jangid  \n",
       "3               PrateikIshita RajSiddhant Kapoor  \n",
       "5  Bobby DeolAishwarya Rai BachchanShammi Kapoor  \n",
       "6    Jimmy SheirgillMinissha LambaYashpal Sharma  \n",
       "8            Yash DaveMuntazir AhmadKiran Bhatia  "
      ]
     },
     "execution_count": 33,
     "metadata": {},
     "output_type": "execute_result"
    }
   ],
   "source": [
    "movie_data.head()"
   ]
  },
  {
   "cell_type": "code",
   "execution_count": 34,
   "id": "f6e72f71",
   "metadata": {},
   "outputs": [
    {
     "name": "stdout",
     "output_type": "stream",
     "text": [
      "The top of movie in dataset is: Mahesh Bhatt\n"
     ]
    }
   ],
   "source": [
    "#Which actor starred in the movie\n",
    "# Count the number of movies  by each actor\n",
    "top_movie_count = movie_data['Name'].value_counts().head(10)\n",
    "top_movie_count\n",
    "top_movie= director_movie_count.idxmax()\n",
    "\n",
    "#display the result\n",
    "print(f\"The top of movie in dataset is: {top_movie}\")"
   ]
  },
  {
   "cell_type": "code",
   "execution_count": 35,
   "id": "113b19cd",
   "metadata": {},
   "outputs": [
    {
     "data": {
      "image/png": "[encoded data removed]",
      "text/plain": [
       "<Figure size 1000x600 with 1 Axes>"
      ]
     },
     "metadata": {},
     "output_type": "display_data"
    }
   ],
   "source": [
    "Top_movie = movie_data['Name'].value_counts()\n",
    "\n",
    "Top_movie_head = director_movie_count.head(10)\n",
    "#Plotting the bar chart\n",
    "plt.figure(figsize=(10, 6))\n",
    "Top_movie_head.plot(kind='bar')\n",
    "plt.title('Top Movie in the dataset')\n",
    "plt.xlabel('Movie name')\n",
    "plt.ylabel('Number of Movies')\n",
    "plt.show()"
   ]
  },
  {
   "cell_type": "markdown",
   "id": "b6406828",
   "metadata": {},
   "source": [
    "the style of seaborn plots to ticks providing a clean and minimalist appearance with ticks on the axes"
   ]
  },
  {
   "cell_type": "code",
   "execution_count": 36,
   "id": "4bcc95f7",
   "metadata": {},
   "outputs": [],
   "source": [
    "sns.set(style = \"ticks\", font = \"Times new Roman\")"
   ]
  },
  {
   "cell_type": "code",
   "execution_count": 37,
   "id": "7214610b",
   "metadata": {},
   "outputs": [
    {
     "data": {
      "image/png": "[encoded data removed]",
      "text/plain": [
       "<Figure size 640x480 with 1 Axes>"
      ]
     },
     "metadata": {},
     "output_type": "display_data"
    }
   ],
   "source": [
    "ax = sns.histplot(data=movie_data, x=\"Rating\", bins=20, kde=True, color='red')\n",
    "ax.set_xlabel('Rating')\n",
    "ax.set_ylabel('Frequency')\n",
    "ax.set_title('Distribution of Movie Ratings')\n",
    "plt.show()"
   ]
  },
  {
   "cell_type": "code",
   "execution_count": 38,
   "id": "5f6b5b1d",
   "metadata": {},
   "outputs": [
    {
     "data": {
      "text/html": [
       "<div>\n",
       "<style scoped>\n",
       "    .dataframe tbody tr th:only-of-type {\n",
       "        vertical-align: middle;\n",
       "    }\n",
       "\n",
       "    .dataframe tbody tr th {\n",
       "        vertical-align: top;\n",
       "    }\n",
       "\n",
       "    .dataframe thead th {\n",
       "        text-align: right;\n",
       "    }\n",
       "</style>\n",
       "<table border=\"1\" class=\"dataframe\">\n",
       "  <thead>\n",
       "    <tr style=\"text-align: right;\">\n",
       "      <th></th>\n",
       "      <th>Year</th>\n",
       "      <th>Duration</th>\n",
       "      <th>Rating</th>\n",
       "      <th>Number_of_votes</th>\n",
       "      <th>Total_votes</th>\n",
       "    </tr>\n",
       "  </thead>\n",
       "  <tbody>\n",
       "    <tr>\n",
       "      <th>count</th>\n",
       "      <td>2142</td>\n",
       "      <td>2142.000000</td>\n",
       "      <td>2142.000000</td>\n",
       "      <td>2142.000000</td>\n",
       "      <td>2142.000000</td>\n",
       "    </tr>\n",
       "    <tr>\n",
       "      <th>mean</th>\n",
       "      <td>1999-11-19 09:45:32.773109248</td>\n",
       "      <td>132.175659</td>\n",
       "      <td>4.072923</td>\n",
       "      <td>808.285247</td>\n",
       "      <td>912.278245</td>\n",
       "    </tr>\n",
       "    <tr>\n",
       "      <th>min</th>\n",
       "      <td>1933-01-01 00:00:00</td>\n",
       "      <td>46.000000</td>\n",
       "      <td>1.100000</td>\n",
       "      <td>5.000000</td>\n",
       "      <td>5.000000</td>\n",
       "    </tr>\n",
       "    <tr>\n",
       "      <th>25%</th>\n",
       "      <td>1992-01-01 00:00:00</td>\n",
       "      <td>126.000000</td>\n",
       "      <td>3.600000</td>\n",
       "      <td>14.000000</td>\n",
       "      <td>16.000000</td>\n",
       "    </tr>\n",
       "    <tr>\n",
       "      <th>50%</th>\n",
       "      <td>2002-01-01 00:00:00</td>\n",
       "      <td>130.839792</td>\n",
       "      <td>4.200000</td>\n",
       "      <td>50.000000</td>\n",
       "      <td>62.000000</td>\n",
       "    </tr>\n",
       "    <tr>\n",
       "      <th>75%</th>\n",
       "      <td>2010-01-01 00:00:00</td>\n",
       "      <td>140.000000</td>\n",
       "      <td>4.700000</td>\n",
       "      <td>323.500000</td>\n",
       "      <td>395.000000</td>\n",
       "    </tr>\n",
       "    <tr>\n",
       "      <th>max</th>\n",
       "      <td>2021-01-01 00:00:00</td>\n",
       "      <td>240.000000</td>\n",
       "      <td>5.000000</td>\n",
       "      <td>162455.000000</td>\n",
       "      <td>162455.000000</td>\n",
       "    </tr>\n",
       "    <tr>\n",
       "      <th>std</th>\n",
       "      <td>NaN</td>\n",
       "      <td>18.968180</td>\n",
       "      <td>0.742111</td>\n",
       "      <td>4871.999714</td>\n",
       "      <td>5041.434184</td>\n",
       "    </tr>\n",
       "  </tbody>\n",
       "</table>\n",
       "</div>"
      ],
      "text/plain": [
       "                                Year     Duration       Rating  \\\n",
       "count                           2142  2142.000000  2142.000000   \n",
       "mean   1999-11-19 09:45:32.773109248   132.175659     4.072923   \n",
       "min              1933-01-01 00:00:00    46.000000     1.100000   \n",
       "25%              1992-01-01 00:00:00   126.000000     3.600000   \n",
       "50%              2002-01-01 00:00:00   130.839792     4.200000   \n",
       "75%              2010-01-01 00:00:00   140.000000     4.700000   \n",
       "max              2021-01-01 00:00:00   240.000000     5.000000   \n",
       "std                              NaN    18.968180     0.742111   \n",
       "\n",
       "       Number_of_votes    Total_votes  \n",
       "count      2142.000000    2142.000000  \n",
       "mean        808.285247     912.278245  \n",
       "min           5.000000       5.000000  \n",
       "25%          14.000000      16.000000  \n",
       "50%          50.000000      62.000000  \n",
       "75%         323.500000     395.000000  \n",
       "max      162455.000000  162455.000000  \n",
       "std        4871.999714    5041.434184  "
      ]
     },
     "execution_count": 38,
     "metadata": {},
     "output_type": "execute_result"
    }
   ],
   "source": [
    "movie_data[movie_data.Rating <=5].describe()"
   ]
  },
  {
   "cell_type": "code",
   "execution_count": 39,
   "id": "576b156e",
   "metadata": {},
   "outputs": [
    {
     "name": "stdout",
     "output_type": "stream",
     "text": [
      "<class 'pandas.core.frame.DataFrame'>\n",
      "Index: 7559 entries, 1 to 15508\n",
      "Data columns (total 12 columns):\n",
      " #   Column           Non-Null Count  Dtype         \n",
      "---  ------           --------------  -----         \n",
      " 0   Name             7559 non-null   object        \n",
      " 1   Year             7559 non-null   datetime64[ns]\n",
      " 2   Duration         7559 non-null   float64       \n",
      " 3   Genre            7559 non-null   object        \n",
      " 4   Rating           7559 non-null   float64       \n",
      " 5   Number_of_votes  7558 non-null   float64       \n",
      " 6   Director         7559 non-null   object        \n",
      " 7   Actor 1          7559 non-null   object        \n",
      " 8   Actor 2          7559 non-null   object        \n",
      " 9   Actor 3          7559 non-null   object        \n",
      " 10  Total_votes      7559 non-null   float64       \n",
      " 11  Actors           7559 non-null   object        \n",
      "dtypes: datetime64[ns](1), float64(4), object(7)\n",
      "memory usage: 1.0+ MB\n"
     ]
    }
   ],
   "source": [
    "movie_data.info()"
   ]
  },
  {
   "cell_type": "code",
   "execution_count": 40,
   "id": "699a06fb",
   "metadata": {},
   "outputs": [
    {
     "name": "stdout",
     "output_type": "stream",
     "text": [
      "<class 'pandas.core.frame.DataFrame'>\n",
      "Index: 7559 entries, 1 to 15508\n",
      "Data columns (total 14 columns):\n",
      " #   Column           Non-Null Count  Dtype         \n",
      "---  ------           --------------  -----         \n",
      " 0   Name             7559 non-null   object        \n",
      " 1   Year             7559 non-null   datetime64[ns]\n",
      " 2   Duration         7559 non-null   float64       \n",
      " 3   Genre            7559 non-null   object        \n",
      " 4   Rating           7559 non-null   float64       \n",
      " 5   Number_of_votes  7558 non-null   float64       \n",
      " 6   Director         7559 non-null   object        \n",
      " 7   Actor 1          7559 non-null   object        \n",
      " 8   Actor 2          7559 non-null   object        \n",
      " 9   Actor 3          7559 non-null   object        \n",
      " 10  Total_votes      7559 non-null   float64       \n",
      " 11  Actors           7559 non-null   int16         \n",
      " 12  Directors        7559 non-null   int16         \n",
      " 13  Genres           7559 non-null   int16         \n",
      "dtypes: datetime64[ns](1), float64(4), int16(3), object(6)\n",
      "memory usage: 1011.0+ KB\n"
     ]
    }
   ],
   "source": [
    "movie_data[\"Directors\"] = movie_data['Director'].astype('category').cat.codes\n",
    "movie_data[\"Genres\"] = movie_data['Genre'].astype('category').cat.codes\n",
    "movie_data[\"Actors\"] = movie_data['Actors'].astype('category').cat.codes\n",
    "movie_data.info()"
   ]
  },
  {
   "cell_type": "code",
   "execution_count": 41,
   "id": "b01852b3",
   "metadata": {},
   "outputs": [],
   "source": [
    "movie_data.drop(columns = {'Actor 1','Actor 2', 'Actor 3'}, inplace = True)"
   ]
  },
  {
   "cell_type": "code",
   "execution_count": 42,
   "id": "8b89cfc3",
   "metadata": {},
   "outputs": [
    {
     "name": "stdout",
     "output_type": "stream",
     "text": [
      "<class 'pandas.core.frame.DataFrame'>\n",
      "Index: 7559 entries, 1 to 15508\n",
      "Data columns (total 11 columns):\n",
      " #   Column           Non-Null Count  Dtype         \n",
      "---  ------           --------------  -----         \n",
      " 0   Name             7559 non-null   object        \n",
      " 1   Year             7559 non-null   datetime64[ns]\n",
      " 2   Duration         7559 non-null   float64       \n",
      " 3   Genre            7559 non-null   object        \n",
      " 4   Rating           7559 non-null   float64       \n",
      " 5   Number_of_votes  7558 non-null   float64       \n",
      " 6   Director         7559 non-null   object        \n",
      " 7   Total_votes      7559 non-null   float64       \n",
      " 8   Actors           7559 non-null   int16         \n",
      " 9   Directors        7559 non-null   int16         \n",
      " 10  Genres           7559 non-null   int16         \n",
      "dtypes: datetime64[ns](1), float64(4), int16(3), object(3)\n",
      "memory usage: 833.8+ KB\n"
     ]
    }
   ],
   "source": [
    "movie_data.info()"
   ]
  },
  {
   "cell_type": "code",
   "execution_count": 43,
   "id": "62c19d5a",
   "metadata": {},
   "outputs": [
    {
     "name": "stderr",
     "output_type": "stream",
     "text": [
      "C:\\Users\\rajat\\AppData\\Local\\Temp\\ipykernel_23200\\1092272803.py:1: FutureWarning: A value is trying to be set on a copy of a DataFrame or Series through chained assignment using an inplace method.\n",
      "The behavior will change in pandas 3.0. This inplace method will never work because the intermediate object on which we are setting values always behaves as a copy.\n",
      "\n",
      "For example, when doing 'df[col].method(value, inplace=True)', try using 'df.method({col: value}, inplace=True)' or df[col] = df[col].method(value) instead, to perform the operation inplace on the original object.\n",
      "\n",
      "\n",
      "  movie_data['Number_of_votes'].fillna(movie_data['Number_of_votes'].mean(), inplace = True)\n"
     ]
    }
   ],
   "source": [
    "movie_data['Number_of_votes'].fillna(movie_data['Number_of_votes'].mean(), inplace = True)"
   ]
  },
  {
   "cell_type": "markdown",
   "id": "f52c320c",
   "metadata": {},
   "source": [
    "# Data Splitting"
   ]
  },
  {
   "cell_type": "code",
   "execution_count": 44,
   "id": "27c6ff24",
   "metadata": {},
   "outputs": [],
   "source": [
    "from sklearn.model_selection import train_test_split"
   ]
  },
  {
   "cell_type": "code",
   "execution_count": 45,
   "id": "46408638",
   "metadata": {},
   "outputs": [],
   "source": [
    "feature = ['Duration','Number_of_votes','Total_votes', 'Directors','Genres']\n",
    "target = ['Rating']\n",
    "X = movie_data[feature]\n",
    "y = movie_data[target]"
   ]
  },
  {
   "cell_type": "code",
   "execution_count": 46,
   "id": "599fcf58",
   "metadata": {},
   "outputs": [],
   "source": [
    "x_train, x_test, y_train, y_test = train_test_split(X, y, test_size = 0.3, random_state = 1)"
   ]
  },
  {
   "cell_type": "code",
   "execution_count": 47,
   "id": "220bc726",
   "metadata": {},
   "outputs": [],
   "source": [
    "from sklearn.metrics import mean_squared_error, r2_score \n",
    "from sklearn.tree import DecisionTreeRegressor\n",
    "from sklearn.linear_model import LinearRegression"
   ]
  },
  {
   "cell_type": "code",
   "execution_count": 48,
   "id": "d06a0588",
   "metadata": {},
   "outputs": [],
   "source": [
    "linmodel = LinearRegression()\n",
    "linmodel.fit(x_train, y_train)\n",
    "lr_predict = linmodel.predict(x_test)\n",
    "\n",
    "treemodel = DecisionTreeRegressor()\n",
    "treemodel.fit(x_train, y_train)\n",
    "tree_predict = treemodel.predict(x_test)"
   ]
  },
  {
   "cell_type": "code",
   "execution_count": 49,
   "id": "3fc06097",
   "metadata": {
    "scrolled": false
   },
   "outputs": [
    {
     "name": "stdout",
     "output_type": "stream",
     "text": [
      "*********************Linear Regression********************************\n",
      "Training dataset score:  3.77280146412009\n",
      "Testing dataset score:  3.3333626429479457\n",
      "The mean square error is 1.8319515559302617\n",
      "The r2 score is 0.03333362642947946\n",
      "-------------------------------------------------------------------------\n",
      "*********************DECISION TREE REGRESSOR********************************\n",
      "Training dataset score:  99.95567975540325\n",
      "Testing dataset score:  -61.1165454540602\n",
      "The mean square error is 3.0533565064487256\n",
      "The r2 score is -0.611165454540602\n"
     ]
    }
   ],
   "source": [
    "print(\"*********************Linear Regression********************************\")\n",
    "print(\"Training dataset score: \", linmodel.score(x_train, y_train)*100)\n",
    "print(\"Testing dataset score: \", linmodel.score(x_test, y_test)*100)\n",
    "mean_squ = mean_squared_error(y_test, lr_predict)\n",
    "r2 = r2_score(y_test, lr_predict)\n",
    "print(f\"The mean square error is {mean_squ}\")\n",
    "print(f\"The r2 score is {r2}\")\n",
    "print(\"-------------------------------------------------------------------------\")\n",
    "print(\"*********************DECISION TREE REGRESSOR********************************\")\n",
    "\n",
    "print(\"Training dataset score: \", treemodel.score(x_train, y_train)*100)\n",
    "print(\"Testing dataset score: \", treemodel.score(x_test, y_test)*100)\n",
    "mean_squ = mean_squared_error(y_test, tree_predict)\n",
    "r2 = r2_score(y_test, tree_predict)\n",
    "print(f\"The mean square error is {mean_squ}\")\n",
    "print(f\"The r2 score is {r2}\")"
   ]
  },
  {
   "cell_type": "code",
   "execution_count": 50,
   "id": "85176575",
   "metadata": {},
   "outputs": [
    {
     "name": "stdout",
     "output_type": "stream",
     "text": [
      "Linear model Score:  0.03333362642947946\n",
      "Decision Tree model Score:  -0.611165454540602\n"
     ]
    }
   ],
   "source": [
    "linear = linmodel.score(x_test, y_test)\n",
    "tree = treemodel.score(x_test, y_test)\n",
    "\n",
    "print(\"Linear model Score: \", linear)\n",
    "print(\"Decision Tree model Score: \", tree)"
   ]
  },
  {
   "cell_type": "code",
   "execution_count": null,
   "id": "11242993",
   "metadata": {},
   "outputs": [],
   "source": []
  }
 ],
 "metadata": {
  "kernelspec": {
   "display_name": "Python 3 (ipykernel)",
   "language": "python",
   "name": "python3"
  },
  "language_info": {
   "codemirror_mode": {
    "name": "ipython",
    "version": 3
   },
   "file_extension": ".py",
   "mimetype": "text/x-python",
   "name": "python",
   "nbconvert_exporter": "python",
   "pygments_lexer": "ipython3",
   "version": "3.9.16"
  }
 },
 "nbformat": 4,
 "nbformat_minor": 5
}
